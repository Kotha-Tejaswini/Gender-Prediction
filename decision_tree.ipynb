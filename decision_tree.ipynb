{
 "cells": [
  {
   "cell_type": "code",
   "execution_count": 1,
   "id": "e81ec7eb",
   "metadata": {},
   "outputs": [
    {
     "data": {
      "text/html": [
       "<div>\n",
       "<style scoped>\n",
       "    .dataframe tbody tr th:only-of-type {\n",
       "        vertical-align: middle;\n",
       "    }\n",
       "\n",
       "    .dataframe tbody tr th {\n",
       "        vertical-align: top;\n",
       "    }\n",
       "\n",
       "    .dataframe thead th {\n",
       "        text-align: right;\n",
       "    }\n",
       "</style>\n",
       "<table border=\"1\" class=\"dataframe\">\n",
       "  <thead>\n",
       "    <tr style=\"text-align: right;\">\n",
       "      <th></th>\n",
       "      <th>0</th>\n",
       "      <th>1</th>\n",
       "      <th>2</th>\n",
       "      <th>3</th>\n",
       "      <th>4</th>\n",
       "      <th>5</th>\n",
       "      <th>6</th>\n",
       "      <th>7</th>\n",
       "      <th>8</th>\n",
       "      <th>9</th>\n",
       "      <th>...</th>\n",
       "      <th>775</th>\n",
       "      <th>776</th>\n",
       "      <th>777</th>\n",
       "      <th>778</th>\n",
       "      <th>779</th>\n",
       "      <th>780</th>\n",
       "      <th>781</th>\n",
       "      <th>782</th>\n",
       "      <th>783</th>\n",
       "      <th>784</th>\n",
       "    </tr>\n",
       "  </thead>\n",
       "  <tbody>\n",
       "    <tr>\n",
       "      <th>0</th>\n",
       "      <td>0.568627</td>\n",
       "      <td>0.572549</td>\n",
       "      <td>0.580392</td>\n",
       "      <td>0.588235</td>\n",
       "      <td>0.596078</td>\n",
       "      <td>0.592157</td>\n",
       "      <td>0.600000</td>\n",
       "      <td>0.596078</td>\n",
       "      <td>0.607843</td>\n",
       "      <td>0.615686</td>\n",
       "      <td>...</td>\n",
       "      <td>0.662745</td>\n",
       "      <td>0.670588</td>\n",
       "      <td>0.666667</td>\n",
       "      <td>0.662745</td>\n",
       "      <td>0.658824</td>\n",
       "      <td>0.658824</td>\n",
       "      <td>0.662745</td>\n",
       "      <td>0.662745</td>\n",
       "      <td>0.658824</td>\n",
       "      <td>0.0</td>\n",
       "    </tr>\n",
       "    <tr>\n",
       "      <th>1</th>\n",
       "      <td>0.552941</td>\n",
       "      <td>0.556863</td>\n",
       "      <td>0.564706</td>\n",
       "      <td>0.560784</td>\n",
       "      <td>0.568627</td>\n",
       "      <td>0.580392</td>\n",
       "      <td>0.580392</td>\n",
       "      <td>0.580392</td>\n",
       "      <td>0.588235</td>\n",
       "      <td>0.600000</td>\n",
       "      <td>...</td>\n",
       "      <td>0.580392</td>\n",
       "      <td>0.596078</td>\n",
       "      <td>0.584314</td>\n",
       "      <td>0.588235</td>\n",
       "      <td>0.588235</td>\n",
       "      <td>0.588235</td>\n",
       "      <td>0.580392</td>\n",
       "      <td>0.588235</td>\n",
       "      <td>0.592157</td>\n",
       "      <td>0.0</td>\n",
       "    </tr>\n",
       "    <tr>\n",
       "      <th>2</th>\n",
       "      <td>0.572549</td>\n",
       "      <td>0.584314</td>\n",
       "      <td>0.592157</td>\n",
       "      <td>0.596078</td>\n",
       "      <td>0.603922</td>\n",
       "      <td>0.603922</td>\n",
       "      <td>0.619608</td>\n",
       "      <td>0.619608</td>\n",
       "      <td>0.623529</td>\n",
       "      <td>0.627451</td>\n",
       "      <td>...</td>\n",
       "      <td>0.678431</td>\n",
       "      <td>0.686275</td>\n",
       "      <td>0.686275</td>\n",
       "      <td>0.682353</td>\n",
       "      <td>0.682353</td>\n",
       "      <td>0.678431</td>\n",
       "      <td>0.678431</td>\n",
       "      <td>0.678431</td>\n",
       "      <td>0.674510</td>\n",
       "      <td>0.0</td>\n",
       "    </tr>\n",
       "    <tr>\n",
       "      <th>3</th>\n",
       "      <td>0.584314</td>\n",
       "      <td>0.592157</td>\n",
       "      <td>0.600000</td>\n",
       "      <td>0.603922</td>\n",
       "      <td>0.615686</td>\n",
       "      <td>0.635294</td>\n",
       "      <td>0.631373</td>\n",
       "      <td>0.639216</td>\n",
       "      <td>0.643137</td>\n",
       "      <td>0.650980</td>\n",
       "      <td>...</td>\n",
       "      <td>0.694118</td>\n",
       "      <td>0.686275</td>\n",
       "      <td>0.686275</td>\n",
       "      <td>0.690196</td>\n",
       "      <td>0.686275</td>\n",
       "      <td>0.682353</td>\n",
       "      <td>0.686275</td>\n",
       "      <td>0.682353</td>\n",
       "      <td>0.678431</td>\n",
       "      <td>0.0</td>\n",
       "    </tr>\n",
       "    <tr>\n",
       "      <th>4</th>\n",
       "      <td>0.584314</td>\n",
       "      <td>0.588235</td>\n",
       "      <td>0.600000</td>\n",
       "      <td>0.603922</td>\n",
       "      <td>0.611765</td>\n",
       "      <td>0.627451</td>\n",
       "      <td>0.639216</td>\n",
       "      <td>0.639216</td>\n",
       "      <td>0.647059</td>\n",
       "      <td>0.650980</td>\n",
       "      <td>...</td>\n",
       "      <td>0.686275</td>\n",
       "      <td>0.686275</td>\n",
       "      <td>0.686275</td>\n",
       "      <td>0.686275</td>\n",
       "      <td>0.686275</td>\n",
       "      <td>0.682353</td>\n",
       "      <td>0.686275</td>\n",
       "      <td>0.686275</td>\n",
       "      <td>0.682353</td>\n",
       "      <td>0.0</td>\n",
       "    </tr>\n",
       "    <tr>\n",
       "      <th>...</th>\n",
       "      <td>...</td>\n",
       "      <td>...</td>\n",
       "      <td>...</td>\n",
       "      <td>...</td>\n",
       "      <td>...</td>\n",
       "      <td>...</td>\n",
       "      <td>...</td>\n",
       "      <td>...</td>\n",
       "      <td>...</td>\n",
       "      <td>...</td>\n",
       "      <td>...</td>\n",
       "      <td>...</td>\n",
       "      <td>...</td>\n",
       "      <td>...</td>\n",
       "      <td>...</td>\n",
       "      <td>...</td>\n",
       "      <td>...</td>\n",
       "      <td>...</td>\n",
       "      <td>...</td>\n",
       "      <td>...</td>\n",
       "      <td>...</td>\n",
       "    </tr>\n",
       "    <tr>\n",
       "      <th>395</th>\n",
       "      <td>0.690196</td>\n",
       "      <td>0.545098</td>\n",
       "      <td>0.666667</td>\n",
       "      <td>0.698039</td>\n",
       "      <td>0.725490</td>\n",
       "      <td>0.721569</td>\n",
       "      <td>0.717647</td>\n",
       "      <td>0.721569</td>\n",
       "      <td>0.713725</td>\n",
       "      <td>0.705882</td>\n",
       "      <td>...</td>\n",
       "      <td>0.733333</td>\n",
       "      <td>0.725490</td>\n",
       "      <td>0.729412</td>\n",
       "      <td>0.721569</td>\n",
       "      <td>0.737255</td>\n",
       "      <td>0.729412</td>\n",
       "      <td>0.733333</td>\n",
       "      <td>0.721569</td>\n",
       "      <td>0.749020</td>\n",
       "      <td>1.0</td>\n",
       "    </tr>\n",
       "    <tr>\n",
       "      <th>396</th>\n",
       "      <td>0.690196</td>\n",
       "      <td>0.686275</td>\n",
       "      <td>0.729412</td>\n",
       "      <td>0.741176</td>\n",
       "      <td>0.725490</td>\n",
       "      <td>0.733333</td>\n",
       "      <td>0.725490</td>\n",
       "      <td>0.721569</td>\n",
       "      <td>0.741176</td>\n",
       "      <td>0.737255</td>\n",
       "      <td>...</td>\n",
       "      <td>0.737255</td>\n",
       "      <td>0.737255</td>\n",
       "      <td>0.745098</td>\n",
       "      <td>0.737255</td>\n",
       "      <td>0.749020</td>\n",
       "      <td>0.733333</td>\n",
       "      <td>0.741176</td>\n",
       "      <td>0.745098</td>\n",
       "      <td>0.733333</td>\n",
       "      <td>1.0</td>\n",
       "    </tr>\n",
       "    <tr>\n",
       "      <th>397</th>\n",
       "      <td>0.552941</td>\n",
       "      <td>0.745098</td>\n",
       "      <td>0.737255</td>\n",
       "      <td>0.752941</td>\n",
       "      <td>0.752941</td>\n",
       "      <td>0.749020</td>\n",
       "      <td>0.760784</td>\n",
       "      <td>0.752941</td>\n",
       "      <td>0.756863</td>\n",
       "      <td>0.756863</td>\n",
       "      <td>...</td>\n",
       "      <td>0.756863</td>\n",
       "      <td>0.756863</td>\n",
       "      <td>0.760784</td>\n",
       "      <td>0.752941</td>\n",
       "      <td>0.741176</td>\n",
       "      <td>0.745098</td>\n",
       "      <td>0.752941</td>\n",
       "      <td>0.760784</td>\n",
       "      <td>0.749020</td>\n",
       "      <td>1.0</td>\n",
       "    </tr>\n",
       "    <tr>\n",
       "      <th>398</th>\n",
       "      <td>0.686275</td>\n",
       "      <td>0.737255</td>\n",
       "      <td>0.768627</td>\n",
       "      <td>0.784314</td>\n",
       "      <td>0.764706</td>\n",
       "      <td>0.768627</td>\n",
       "      <td>0.764706</td>\n",
       "      <td>0.784314</td>\n",
       "      <td>0.760784</td>\n",
       "      <td>0.776471</td>\n",
       "      <td>...</td>\n",
       "      <td>0.760784</td>\n",
       "      <td>0.768627</td>\n",
       "      <td>0.756863</td>\n",
       "      <td>0.768627</td>\n",
       "      <td>0.768627</td>\n",
       "      <td>0.760784</td>\n",
       "      <td>0.749020</td>\n",
       "      <td>0.752941</td>\n",
       "      <td>0.760784</td>\n",
       "      <td>1.0</td>\n",
       "    </tr>\n",
       "    <tr>\n",
       "      <th>399</th>\n",
       "      <td>0.709804</td>\n",
       "      <td>0.749020</td>\n",
       "      <td>0.768627</td>\n",
       "      <td>0.784314</td>\n",
       "      <td>0.764706</td>\n",
       "      <td>0.780392</td>\n",
       "      <td>0.768627</td>\n",
       "      <td>0.772549</td>\n",
       "      <td>0.768627</td>\n",
       "      <td>0.764706</td>\n",
       "      <td>...</td>\n",
       "      <td>0.788235</td>\n",
       "      <td>0.768627</td>\n",
       "      <td>0.776471</td>\n",
       "      <td>0.760784</td>\n",
       "      <td>0.780392</td>\n",
       "      <td>0.772549</td>\n",
       "      <td>0.768627</td>\n",
       "      <td>0.760784</td>\n",
       "      <td>0.764706</td>\n",
       "      <td>1.0</td>\n",
       "    </tr>\n",
       "  </tbody>\n",
       "</table>\n",
       "<p>400 rows × 785 columns</p>\n",
       "</div>"
      ],
      "text/plain": [
       "            0         1         2         3         4         5         6  \\\n",
       "0    0.568627  0.572549  0.580392  0.588235  0.596078  0.592157  0.600000   \n",
       "1    0.552941  0.556863  0.564706  0.560784  0.568627  0.580392  0.580392   \n",
       "2    0.572549  0.584314  0.592157  0.596078  0.603922  0.603922  0.619608   \n",
       "3    0.584314  0.592157  0.600000  0.603922  0.615686  0.635294  0.631373   \n",
       "4    0.584314  0.588235  0.600000  0.603922  0.611765  0.627451  0.639216   \n",
       "..        ...       ...       ...       ...       ...       ...       ...   \n",
       "395  0.690196  0.545098  0.666667  0.698039  0.725490  0.721569  0.717647   \n",
       "396  0.690196  0.686275  0.729412  0.741176  0.725490  0.733333  0.725490   \n",
       "397  0.552941  0.745098  0.737255  0.752941  0.752941  0.749020  0.760784   \n",
       "398  0.686275  0.737255  0.768627  0.784314  0.764706  0.768627  0.764706   \n",
       "399  0.709804  0.749020  0.768627  0.784314  0.764706  0.780392  0.768627   \n",
       "\n",
       "            7         8         9  ...       775       776       777  \\\n",
       "0    0.596078  0.607843  0.615686  ...  0.662745  0.670588  0.666667   \n",
       "1    0.580392  0.588235  0.600000  ...  0.580392  0.596078  0.584314   \n",
       "2    0.619608  0.623529  0.627451  ...  0.678431  0.686275  0.686275   \n",
       "3    0.639216  0.643137  0.650980  ...  0.694118  0.686275  0.686275   \n",
       "4    0.639216  0.647059  0.650980  ...  0.686275  0.686275  0.686275   \n",
       "..        ...       ...       ...  ...       ...       ...       ...   \n",
       "395  0.721569  0.713725  0.705882  ...  0.733333  0.725490  0.729412   \n",
       "396  0.721569  0.741176  0.737255  ...  0.737255  0.737255  0.745098   \n",
       "397  0.752941  0.756863  0.756863  ...  0.756863  0.756863  0.760784   \n",
       "398  0.784314  0.760784  0.776471  ...  0.760784  0.768627  0.756863   \n",
       "399  0.772549  0.768627  0.764706  ...  0.788235  0.768627  0.776471   \n",
       "\n",
       "          778       779       780       781       782       783  784  \n",
       "0    0.662745  0.658824  0.658824  0.662745  0.662745  0.658824  0.0  \n",
       "1    0.588235  0.588235  0.588235  0.580392  0.588235  0.592157  0.0  \n",
       "2    0.682353  0.682353  0.678431  0.678431  0.678431  0.674510  0.0  \n",
       "3    0.690196  0.686275  0.682353  0.686275  0.682353  0.678431  0.0  \n",
       "4    0.686275  0.686275  0.682353  0.686275  0.686275  0.682353  0.0  \n",
       "..        ...       ...       ...       ...       ...       ...  ...  \n",
       "395  0.721569  0.737255  0.729412  0.733333  0.721569  0.749020  1.0  \n",
       "396  0.737255  0.749020  0.733333  0.741176  0.745098  0.733333  1.0  \n",
       "397  0.752941  0.741176  0.745098  0.752941  0.760784  0.749020  1.0  \n",
       "398  0.768627  0.768627  0.760784  0.749020  0.752941  0.760784  1.0  \n",
       "399  0.760784  0.780392  0.772549  0.768627  0.760784  0.764706  1.0  \n",
       "\n",
       "[400 rows x 785 columns]"
      ]
     },
     "execution_count": 1,
     "metadata": {},
     "output_type": "execute_result"
    }
   ],
   "source": [
    "import pandas as pd\n",
    "from sklearn.tree import DecisionTreeClassifier\n",
    "from sklearn.model_selection import train_test_split\n",
    "from sklearn.metrics import confusion_matrix,accuracy_score\n",
    "df=pd.read_csv(\"dataset.csv\")\n",
    "df"
   ]
  },
  {
   "cell_type": "code",
   "execution_count": 2,
   "id": "670559ae",
   "metadata": {},
   "outputs": [],
   "source": [
    "x=df.iloc[:, :-1]\n",
    "y=df.iloc[:,-1:]\n"
   ]
  },
  {
   "cell_type": "code",
   "execution_count": 3,
   "id": "d7b1e172",
   "metadata": {},
   "outputs": [],
   "source": [
    "model=DecisionTreeClassifier(random_state=0)"
   ]
  },
  {
   "cell_type": "code",
   "execution_count": 4,
   "id": "fa48dad2",
   "metadata": {},
   "outputs": [
    {
     "data": {
      "text/html": [
       "<style>#sk-container-id-1 {color: black;background-color: white;}#sk-container-id-1 pre{padding: 0;}#sk-container-id-1 div.sk-toggleable {background-color: white;}#sk-container-id-1 label.sk-toggleable__label {cursor: pointer;display: block;width: 100%;margin-bottom: 0;padding: 0.3em;box-sizing: border-box;text-align: center;}#sk-container-id-1 label.sk-toggleable__label-arrow:before {content: \"▸\";float: left;margin-right: 0.25em;color: #696969;}#sk-container-id-1 label.sk-toggleable__label-arrow:hover:before {color: black;}#sk-container-id-1 div.sk-estimator:hover label.sk-toggleable__label-arrow:before {color: black;}#sk-container-id-1 div.sk-toggleable__content {max-height: 0;max-width: 0;overflow: hidden;text-align: left;background-color: #f0f8ff;}#sk-container-id-1 div.sk-toggleable__content pre {margin: 0.2em;color: black;border-radius: 0.25em;background-color: #f0f8ff;}#sk-container-id-1 input.sk-toggleable__control:checked~div.sk-toggleable__content {max-height: 200px;max-width: 100%;overflow: auto;}#sk-container-id-1 input.sk-toggleable__control:checked~label.sk-toggleable__label-arrow:before {content: \"▾\";}#sk-container-id-1 div.sk-estimator input.sk-toggleable__control:checked~label.sk-toggleable__label {background-color: #d4ebff;}#sk-container-id-1 div.sk-label input.sk-toggleable__control:checked~label.sk-toggleable__label {background-color: #d4ebff;}#sk-container-id-1 input.sk-hidden--visually {border: 0;clip: rect(1px 1px 1px 1px);clip: rect(1px, 1px, 1px, 1px);height: 1px;margin: -1px;overflow: hidden;padding: 0;position: absolute;width: 1px;}#sk-container-id-1 div.sk-estimator {font-family: monospace;background-color: #f0f8ff;border: 1px dotted black;border-radius: 0.25em;box-sizing: border-box;margin-bottom: 0.5em;}#sk-container-id-1 div.sk-estimator:hover {background-color: #d4ebff;}#sk-container-id-1 div.sk-parallel-item::after {content: \"\";width: 100%;border-bottom: 1px solid gray;flex-grow: 1;}#sk-container-id-1 div.sk-label:hover label.sk-toggleable__label {background-color: #d4ebff;}#sk-container-id-1 div.sk-serial::before {content: \"\";position: absolute;border-left: 1px solid gray;box-sizing: border-box;top: 0;bottom: 0;left: 50%;z-index: 0;}#sk-container-id-1 div.sk-serial {display: flex;flex-direction: column;align-items: center;background-color: white;padding-right: 0.2em;padding-left: 0.2em;position: relative;}#sk-container-id-1 div.sk-item {position: relative;z-index: 1;}#sk-container-id-1 div.sk-parallel {display: flex;align-items: stretch;justify-content: center;background-color: white;position: relative;}#sk-container-id-1 div.sk-item::before, #sk-container-id-1 div.sk-parallel-item::before {content: \"\";position: absolute;border-left: 1px solid gray;box-sizing: border-box;top: 0;bottom: 0;left: 50%;z-index: -1;}#sk-container-id-1 div.sk-parallel-item {display: flex;flex-direction: column;z-index: 1;position: relative;background-color: white;}#sk-container-id-1 div.sk-parallel-item:first-child::after {align-self: flex-end;width: 50%;}#sk-container-id-1 div.sk-parallel-item:last-child::after {align-self: flex-start;width: 50%;}#sk-container-id-1 div.sk-parallel-item:only-child::after {width: 0;}#sk-container-id-1 div.sk-dashed-wrapped {border: 1px dashed gray;margin: 0 0.4em 0.5em 0.4em;box-sizing: border-box;padding-bottom: 0.4em;background-color: white;}#sk-container-id-1 div.sk-label label {font-family: monospace;font-weight: bold;display: inline-block;line-height: 1.2em;}#sk-container-id-1 div.sk-label-container {text-align: center;}#sk-container-id-1 div.sk-container {/* jupyter's `normalize.less` sets `[hidden] { display: none; }` but bootstrap.min.css set `[hidden] { display: none !important; }` so we also need the `!important` here to be able to override the default hidden behavior on the sphinx rendered scikit-learn.org. See: https://github.com/scikit-learn/scikit-learn/issues/21755 */display: inline-block !important;position: relative;}#sk-container-id-1 div.sk-text-repr-fallback {display: none;}</style><div id=\"sk-container-id-1\" class=\"sk-top-container\"><div class=\"sk-text-repr-fallback\"><pre>DecisionTreeClassifier(random_state=0)</pre><b>In a Jupyter environment, please rerun this cell to show the HTML representation or trust the notebook. <br />On GitHub, the HTML representation is unable to render, please try loading this page with nbviewer.org.</b></div><div class=\"sk-container\" hidden><div class=\"sk-item\"><div class=\"sk-estimator sk-toggleable\"><input class=\"sk-toggleable__control sk-hidden--visually\" id=\"sk-estimator-id-1\" type=\"checkbox\" checked><label for=\"sk-estimator-id-1\" class=\"sk-toggleable__label sk-toggleable__label-arrow\">DecisionTreeClassifier</label><div class=\"sk-toggleable__content\"><pre>DecisionTreeClassifier(random_state=0)</pre></div></div></div></div></div>"
      ],
      "text/plain": [
       "DecisionTreeClassifier(random_state=0)"
      ]
     },
     "execution_count": 4,
     "metadata": {},
     "output_type": "execute_result"
    }
   ],
   "source": [
    "model.fit(x,y)"
   ]
  },
  {
   "cell_type": "code",
   "execution_count": 5,
   "id": "23095a35",
   "metadata": {},
   "outputs": [
    {
     "data": {
      "text/plain": [
       "array([0., 0., 0., 0., 0., 0., 0., 0., 0., 0., 0., 0., 0., 0., 0., 0., 0.,\n",
       "       0., 0., 0., 0., 0., 0., 0., 0., 0., 0., 0., 0., 0., 0., 0., 0., 0.,\n",
       "       0., 0., 0., 0., 0., 0., 0., 0., 0., 0., 0., 0., 0., 0., 0., 0., 0.,\n",
       "       0., 0., 0., 0., 0., 0., 0., 0., 0., 0., 0., 0., 0., 0., 0., 0., 0.,\n",
       "       0., 0., 0., 0., 0., 0., 0., 0., 0., 0., 0., 0., 0., 0., 0., 0., 0.,\n",
       "       0., 0., 0., 0., 0., 0., 0., 0., 0., 0., 0., 0., 0., 0., 0., 0., 0.,\n",
       "       0., 0., 0., 0., 0., 0., 0., 0., 0., 0., 0., 0., 0., 0., 0., 0., 0.,\n",
       "       0., 0., 0., 0., 0., 0., 0., 0., 0., 0., 0., 0., 0., 0., 0., 0., 0.,\n",
       "       0., 0., 0., 0., 0., 0., 0., 0., 0., 0., 0., 0., 0., 0., 0., 0., 0.,\n",
       "       0., 0., 0., 0., 0., 0., 0., 0., 0., 0., 0., 0., 0., 0., 0., 0., 0.,\n",
       "       0., 0., 0., 0., 0., 0., 0., 0., 0., 0., 0., 0., 0., 0., 0., 0., 0.,\n",
       "       0., 0., 0., 1., 1., 1., 1., 1., 1., 1., 1., 1., 1., 1., 1., 1., 1.,\n",
       "       1., 1., 1., 1., 1., 1., 1., 1., 1., 1., 1., 1., 1., 1., 1., 1., 1.,\n",
       "       1., 1., 1., 1., 1., 1., 1., 1., 1., 1., 1., 1., 1., 1., 1., 1., 1.,\n",
       "       1., 1., 1., 1., 1., 1., 1., 1., 1., 1., 1., 1., 1., 1., 1., 1., 1.,\n",
       "       1., 1., 1., 1., 1., 1., 1., 1., 1., 1., 1., 1., 1., 1., 1., 1., 1.,\n",
       "       1., 1., 1., 1., 1., 1., 1., 1., 1., 1., 1., 1., 1., 1., 1., 1., 1.,\n",
       "       1., 1., 1., 1., 1., 1., 1., 1., 1., 1., 1., 1., 1., 1., 1., 1., 1.,\n",
       "       1., 1., 1., 1., 1., 1., 1., 1., 1., 1., 1., 1., 1., 1., 1., 1., 1.,\n",
       "       1., 1., 1., 1., 1., 1., 1., 1., 1., 1., 1., 1., 1., 1., 1., 1., 1.,\n",
       "       1., 1., 1., 1., 1., 1., 1., 1., 1., 1., 1., 1., 1., 1., 1., 1., 1.,\n",
       "       1., 1., 1., 1., 1., 1., 1., 1., 1., 1., 1., 1., 1., 1., 1., 1., 1.,\n",
       "       1., 1., 1., 1., 1., 1., 1., 1., 1., 1., 1., 1., 1., 1., 1., 1., 1.,\n",
       "       1., 1., 1., 1., 1., 1., 1., 1., 1.])"
      ]
     },
     "execution_count": 5,
     "metadata": {},
     "output_type": "execute_result"
    }
   ],
   "source": [
    "y_pred=model.predict(x)\n",
    "y_pred"
   ]
  },
  {
   "cell_type": "code",
   "execution_count": 6,
   "id": "1fe380c6",
   "metadata": {},
   "outputs": [
    {
     "data": {
      "text/plain": [
       "array([[190,   0],\n",
       "       [  0, 210]], dtype=int64)"
      ]
     },
     "execution_count": 6,
     "metadata": {},
     "output_type": "execute_result"
    }
   ],
   "source": [
    "from sklearn.metrics import confusion_matrix,accuracy_score\n",
    "m=confusion_matrix(y,y_pred)\n",
    "m"
   ]
  },
  {
   "cell_type": "code",
   "execution_count": 7,
   "id": "eb5531aa",
   "metadata": {},
   "outputs": [
    {
     "data": {
      "text/plain": [
       "1.0"
      ]
     },
     "execution_count": 7,
     "metadata": {},
     "output_type": "execute_result"
    }
   ],
   "source": [
    "a=accuracy_score(y,y_pred)\n",
    "a"
   ]
  },
  {
   "cell_type": "code",
   "execution_count": 8,
   "id": "4f0d0574",
   "metadata": {},
   "outputs": [
    {
     "data": {
      "text/html": [
       "<div>\n",
       "<style scoped>\n",
       "    .dataframe tbody tr th:only-of-type {\n",
       "        vertical-align: middle;\n",
       "    }\n",
       "\n",
       "    .dataframe tbody tr th {\n",
       "        vertical-align: top;\n",
       "    }\n",
       "\n",
       "    .dataframe thead th {\n",
       "        text-align: right;\n",
       "    }\n",
       "</style>\n",
       "<table border=\"1\" class=\"dataframe\">\n",
       "  <thead>\n",
       "    <tr style=\"text-align: right;\">\n",
       "      <th></th>\n",
       "      <th>784</th>\n",
       "    </tr>\n",
       "  </thead>\n",
       "  <tbody>\n",
       "    <tr>\n",
       "      <th>336</th>\n",
       "      <td>1.0</td>\n",
       "    </tr>\n",
       "    <tr>\n",
       "      <th>64</th>\n",
       "      <td>0.0</td>\n",
       "    </tr>\n",
       "    <tr>\n",
       "      <th>55</th>\n",
       "      <td>0.0</td>\n",
       "    </tr>\n",
       "    <tr>\n",
       "      <th>106</th>\n",
       "      <td>0.0</td>\n",
       "    </tr>\n",
       "    <tr>\n",
       "      <th>300</th>\n",
       "      <td>1.0</td>\n",
       "    </tr>\n",
       "    <tr>\n",
       "      <th>...</th>\n",
       "      <td>...</td>\n",
       "    </tr>\n",
       "    <tr>\n",
       "      <th>323</th>\n",
       "      <td>1.0</td>\n",
       "    </tr>\n",
       "    <tr>\n",
       "      <th>192</th>\n",
       "      <td>1.0</td>\n",
       "    </tr>\n",
       "    <tr>\n",
       "      <th>117</th>\n",
       "      <td>0.0</td>\n",
       "    </tr>\n",
       "    <tr>\n",
       "      <th>47</th>\n",
       "      <td>0.0</td>\n",
       "    </tr>\n",
       "    <tr>\n",
       "      <th>172</th>\n",
       "      <td>0.0</td>\n",
       "    </tr>\n",
       "  </tbody>\n",
       "</table>\n",
       "<p>320 rows × 1 columns</p>\n",
       "</div>"
      ],
      "text/plain": [
       "     784\n",
       "336  1.0\n",
       "64   0.0\n",
       "55   0.0\n",
       "106  0.0\n",
       "300  1.0\n",
       "..   ...\n",
       "323  1.0\n",
       "192  1.0\n",
       "117  0.0\n",
       "47   0.0\n",
       "172  0.0\n",
       "\n",
       "[320 rows x 1 columns]"
      ]
     },
     "execution_count": 8,
     "metadata": {},
     "output_type": "execute_result"
    }
   ],
   "source": [
    "from sklearn.model_selection import train_test_split\n",
    "X_train,X_test,Y_train,Y_test=train_test_split(x,y,test_size=0.2,random_state=0)\n",
    "Y_train"
   ]
  },
  {
   "cell_type": "code",
   "execution_count": 9,
   "id": "d33e8d89",
   "metadata": {},
   "outputs": [
    {
     "data": {
      "text/html": [
       "<style>#sk-container-id-2 {color: black;background-color: white;}#sk-container-id-2 pre{padding: 0;}#sk-container-id-2 div.sk-toggleable {background-color: white;}#sk-container-id-2 label.sk-toggleable__label {cursor: pointer;display: block;width: 100%;margin-bottom: 0;padding: 0.3em;box-sizing: border-box;text-align: center;}#sk-container-id-2 label.sk-toggleable__label-arrow:before {content: \"▸\";float: left;margin-right: 0.25em;color: #696969;}#sk-container-id-2 label.sk-toggleable__label-arrow:hover:before {color: black;}#sk-container-id-2 div.sk-estimator:hover label.sk-toggleable__label-arrow:before {color: black;}#sk-container-id-2 div.sk-toggleable__content {max-height: 0;max-width: 0;overflow: hidden;text-align: left;background-color: #f0f8ff;}#sk-container-id-2 div.sk-toggleable__content pre {margin: 0.2em;color: black;border-radius: 0.25em;background-color: #f0f8ff;}#sk-container-id-2 input.sk-toggleable__control:checked~div.sk-toggleable__content {max-height: 200px;max-width: 100%;overflow: auto;}#sk-container-id-2 input.sk-toggleable__control:checked~label.sk-toggleable__label-arrow:before {content: \"▾\";}#sk-container-id-2 div.sk-estimator input.sk-toggleable__control:checked~label.sk-toggleable__label {background-color: #d4ebff;}#sk-container-id-2 div.sk-label input.sk-toggleable__control:checked~label.sk-toggleable__label {background-color: #d4ebff;}#sk-container-id-2 input.sk-hidden--visually {border: 0;clip: rect(1px 1px 1px 1px);clip: rect(1px, 1px, 1px, 1px);height: 1px;margin: -1px;overflow: hidden;padding: 0;position: absolute;width: 1px;}#sk-container-id-2 div.sk-estimator {font-family: monospace;background-color: #f0f8ff;border: 1px dotted black;border-radius: 0.25em;box-sizing: border-box;margin-bottom: 0.5em;}#sk-container-id-2 div.sk-estimator:hover {background-color: #d4ebff;}#sk-container-id-2 div.sk-parallel-item::after {content: \"\";width: 100%;border-bottom: 1px solid gray;flex-grow: 1;}#sk-container-id-2 div.sk-label:hover label.sk-toggleable__label {background-color: #d4ebff;}#sk-container-id-2 div.sk-serial::before {content: \"\";position: absolute;border-left: 1px solid gray;box-sizing: border-box;top: 0;bottom: 0;left: 50%;z-index: 0;}#sk-container-id-2 div.sk-serial {display: flex;flex-direction: column;align-items: center;background-color: white;padding-right: 0.2em;padding-left: 0.2em;position: relative;}#sk-container-id-2 div.sk-item {position: relative;z-index: 1;}#sk-container-id-2 div.sk-parallel {display: flex;align-items: stretch;justify-content: center;background-color: white;position: relative;}#sk-container-id-2 div.sk-item::before, #sk-container-id-2 div.sk-parallel-item::before {content: \"\";position: absolute;border-left: 1px solid gray;box-sizing: border-box;top: 0;bottom: 0;left: 50%;z-index: -1;}#sk-container-id-2 div.sk-parallel-item {display: flex;flex-direction: column;z-index: 1;position: relative;background-color: white;}#sk-container-id-2 div.sk-parallel-item:first-child::after {align-self: flex-end;width: 50%;}#sk-container-id-2 div.sk-parallel-item:last-child::after {align-self: flex-start;width: 50%;}#sk-container-id-2 div.sk-parallel-item:only-child::after {width: 0;}#sk-container-id-2 div.sk-dashed-wrapped {border: 1px dashed gray;margin: 0 0.4em 0.5em 0.4em;box-sizing: border-box;padding-bottom: 0.4em;background-color: white;}#sk-container-id-2 div.sk-label label {font-family: monospace;font-weight: bold;display: inline-block;line-height: 1.2em;}#sk-container-id-2 div.sk-label-container {text-align: center;}#sk-container-id-2 div.sk-container {/* jupyter's `normalize.less` sets `[hidden] { display: none; }` but bootstrap.min.css set `[hidden] { display: none !important; }` so we also need the `!important` here to be able to override the default hidden behavior on the sphinx rendered scikit-learn.org. See: https://github.com/scikit-learn/scikit-learn/issues/21755 */display: inline-block !important;position: relative;}#sk-container-id-2 div.sk-text-repr-fallback {display: none;}</style><div id=\"sk-container-id-2\" class=\"sk-top-container\"><div class=\"sk-text-repr-fallback\"><pre>DecisionTreeClassifier(criterion=&#x27;entropy&#x27;, max_depth=1, random_state=0)</pre><b>In a Jupyter environment, please rerun this cell to show the HTML representation or trust the notebook. <br />On GitHub, the HTML representation is unable to render, please try loading this page with nbviewer.org.</b></div><div class=\"sk-container\" hidden><div class=\"sk-item\"><div class=\"sk-estimator sk-toggleable\"><input class=\"sk-toggleable__control sk-hidden--visually\" id=\"sk-estimator-id-2\" type=\"checkbox\" checked><label for=\"sk-estimator-id-2\" class=\"sk-toggleable__label sk-toggleable__label-arrow\">DecisionTreeClassifier</label><div class=\"sk-toggleable__content\"><pre>DecisionTreeClassifier(criterion=&#x27;entropy&#x27;, max_depth=1, random_state=0)</pre></div></div></div></div></div>"
      ],
      "text/plain": [
       "DecisionTreeClassifier(criterion='entropy', max_depth=1, random_state=0)"
      ]
     },
     "execution_count": 9,
     "metadata": {},
     "output_type": "execute_result"
    }
   ],
   "source": [
    "from sklearn.tree import DecisionTreeClassifier\n",
    "model=DecisionTreeClassifier(criterion=\"entropy\",random_state=0,max_depth=1)\n",
    "model.fit(X_train,Y_train)"
   ]
  },
  {
   "cell_type": "code",
   "execution_count": 10,
   "id": "922affb0",
   "metadata": {},
   "outputs": [],
   "source": [
    "from sklearn.metrics import confusion_matrix,accuracy_score"
   ]
  },
  {
   "cell_type": "code",
   "execution_count": 11,
   "id": "4c976f78",
   "metadata": {},
   "outputs": [
    {
     "data": {
      "text/plain": [
       "array([0., 1., 1., 1., 0., 0., 0., 0., 0., 0., 0., 0., 0., 1., 0., 0., 0.,\n",
       "       0., 0., 1., 0., 0., 0., 1., 0., 0., 0., 1., 0., 0., 0., 0., 0., 0.,\n",
       "       0., 0., 0., 0., 0., 0., 0., 0., 0., 0., 0., 0., 0., 0., 0., 0., 0.,\n",
       "       0., 0., 0., 0., 0., 0., 0., 0., 0., 0., 0., 0., 1., 1., 0., 0., 0.,\n",
       "       0., 0., 0., 0., 0., 0., 0., 0., 0., 0., 0., 0.])"
      ]
     },
     "execution_count": 11,
     "metadata": {},
     "output_type": "execute_result"
    }
   ],
   "source": [
    "y_pred=model.predict(X_test)\n",
    "# m=confusion_matrix(y,y_pred)\n",
    "# m\n",
    "y_pred"
   ]
  },
  {
   "cell_type": "code",
   "execution_count": 12,
   "id": "3aeba717",
   "metadata": {},
   "outputs": [
    {
     "data": {
      "text/plain": [
       "array([[42,  1],\n",
       "       [29,  8]], dtype=int64)"
      ]
     },
     "execution_count": 12,
     "metadata": {},
     "output_type": "execute_result"
    }
   ],
   "source": [
    "m=confusion_matrix(Y_test,y_pred)\n",
    "m"
   ]
  },
  {
   "cell_type": "code",
   "execution_count": 13,
   "id": "b2fd125a",
   "metadata": {},
   "outputs": [
    {
     "data": {
      "text/plain": [
       "0.625"
      ]
     },
     "execution_count": 13,
     "metadata": {},
     "output_type": "execute_result"
    }
   ],
   "source": [
    "m=accuracy_score(Y_test,y_pred)\n",
    "m"
   ]
  },
  {
   "cell_type": "code",
   "execution_count": 14,
   "id": "6236d842",
   "metadata": {},
   "outputs": [],
   "source": [
    "from sklearn.metrics import confusion_matrix\n",
    "def sensitivity(Y_test, y_pred):\n",
    "    tp, fn, fp, tn = confusion_matrix(Y_test, y_pred).ravel()\n",
    "    return tp / (tp + fn)\n",
    "def specificity(Y_test, y_pred):\n",
    "    tp, fn, fp, tn = confusion_matrix(Y_test, y_pred).ravel()\n",
    "    return tn / (tn + fp)\n",
    "def presicion(Y_test, y_pred):\n",
    "    tp, fn, fp, tn = confusion_matrix(Y_test, y_pred).ravel()\n",
    "    return tp / (tp + fp)\n",
    "def balanced_accuracy(Y_test, y_pred):\n",
    "    return (specificity+sensitivity)/2"
   ]
  },
  {
   "cell_type": "code",
   "execution_count": 15,
   "id": "7b00848c",
   "metadata": {},
   "outputs": [
    {
     "data": {
      "text/plain": [
       "0.9767441860465116"
      ]
     },
     "execution_count": 15,
     "metadata": {},
     "output_type": "execute_result"
    }
   ],
   "source": [
    "sensitivity = sensitivity(Y_test, y_pred)\n",
    "sensitivity"
   ]
  },
  {
   "cell_type": "code",
   "execution_count": 16,
   "id": "ea3538df",
   "metadata": {},
   "outputs": [
    {
     "data": {
      "text/plain": [
       "0.21621621621621623"
      ]
     },
     "execution_count": 16,
     "metadata": {},
     "output_type": "execute_result"
    }
   ],
   "source": [
    "specificity=specificity(Y_test, y_pred)\n",
    "specificity"
   ]
  },
  {
   "cell_type": "code",
   "execution_count": 17,
   "id": "54922772",
   "metadata": {},
   "outputs": [
    {
     "data": {
      "text/plain": [
       "0.5915492957746479"
      ]
     },
     "execution_count": 17,
     "metadata": {},
     "output_type": "execute_result"
    }
   ],
   "source": [
    "presicion=presicion(Y_test, y_pred)\n",
    "presicion"
   ]
  },
  {
   "cell_type": "code",
   "execution_count": 18,
   "id": "99de29c8",
   "metadata": {},
   "outputs": [
    {
     "data": {
      "text/plain": [
       "0.5964802011313639"
      ]
     },
     "execution_count": 18,
     "metadata": {},
     "output_type": "execute_result"
    }
   ],
   "source": [
    "balanced_accuracy=balanced_accuracy(Y_test, y_pred)\n",
    "balanced_accuracy"
   ]
  },
  {
   "cell_type": "code",
   "execution_count": 19,
   "id": "22164b47",
   "metadata": {},
   "outputs": [
    {
     "name": "stdout",
     "output_type": "stream",
     "text": [
      "0.575\n"
     ]
    }
   ],
   "source": [
    "from sklearn.model_selection import StratifiedKFold\n",
    "from sklearn.tree import DecisionTreeClassifier\n",
    "skf=StratifiedKFold(n_splits=5)\n",
    "acc=[]\n",
    "for train_index, test_index in skf.split(x, y):\n",
    "    x_train,y_train=x.iloc[train_index,:],y.iloc[train_index]\n",
    "    x_test,y_test=x.iloc[test_index,:],y.iloc[test_index]\n",
    "    model=DecisionTreeClassifier(random_state=0)\n",
    "    model.fit(x_train,y_train)\n",
    "    y_pred=model.predict(x_test)\n",
    "#     accuracy=np.mean(y_pred==y_test)*100\n",
    "    accuracy=accuracy_score(y_test,y_pred)\n",
    "#     print(accuracy)\n",
    "    acc.append(accuracy)\n",
    "print(max(acc))"
   ]
  },
  {
   "cell_type": "code",
   "execution_count": 20,
   "id": "a173c5d8",
   "metadata": {},
   "outputs": [],
   "source": [
    "# import numpy as np\n",
    "# import pandas as pd\n",
    "# import matplotlib.pyplot as plt\n",
    "# from sklearn.tree import DecisionTreeClassifier\n",
    "# from sklearn.model_selection import train_test_split\n",
    "# from sklearn.metrics import accuracy_score\n",
    "# df=pd.read_csv(\"Dataset.csv\")\n",
    "# X=df.iloc[:,:-1]\n",
    "# Y=df.iloc[:,-1]\n",
    "# X_train, X_test, Y_train, y_test = train_test_split(X, Y, test_size=0.2)"
   ]
  },
  {
   "cell_type": "code",
   "execution_count": 21,
   "id": "43235d4c",
   "metadata": {},
   "outputs": [
    {
     "name": "stdout",
     "output_type": "stream",
     "text": [
      "Fold:  1\n",
      "Accuracy: 0.594, Precision: 0.692, Specificity: 0.714, Sensitivity: 0.500, Recall: 0.500\n",
      "Balanced Accuracy: 0.607, F1 Score: 0.581\n",
      "Confusion Matrix:\n",
      " [[10  4]\n",
      " [ 9  9]]\n",
      "\n",
      "\n",
      "Fold:  2\n",
      "Accuracy: 0.750, Precision: 0.812, Specificity: 0.786, Sensitivity: 0.722, Recall: 0.722\n",
      "Balanced Accuracy: 0.754, F1 Score: 0.765\n",
      "Confusion Matrix:\n",
      " [[11  3]\n",
      " [ 5 13]]\n",
      "\n",
      "\n",
      "Fold:  3\n",
      "Accuracy: 0.469, Precision: 0.529, Specificity: 0.429, Sensitivity: 0.500, Recall: 0.500\n",
      "Balanced Accuracy: 0.464, F1 Score: 0.514\n",
      "Confusion Matrix:\n",
      " [[6 8]\n",
      " [9 9]]\n",
      "\n",
      "\n",
      "Fold:  4\n",
      "Accuracy: 0.531, Precision: 0.562, Specificity: 0.533, Sensitivity: 0.529, Recall: 0.529\n",
      "Balanced Accuracy: 0.531, F1 Score: 0.545\n",
      "Confusion Matrix:\n",
      " [[8 7]\n",
      " [8 9]]\n",
      "\n",
      "\n",
      "Fold:  5\n",
      "Accuracy: 0.656, Precision: 0.636, Specificity: 0.467, Sensitivity: 0.824, Recall: 0.824\n",
      "Balanced Accuracy: 0.645, F1 Score: 0.718\n",
      "Confusion Matrix:\n",
      " [[ 7  8]\n",
      " [ 3 14]]\n",
      "\n",
      "\n",
      "Fold:  6\n",
      "Accuracy: 0.625, Precision: 0.632, Specificity: 0.533, Sensitivity: 0.706, Recall: 0.706\n",
      "Balanced Accuracy: 0.620, F1 Score: 0.667\n",
      "Confusion Matrix:\n",
      " [[ 8  7]\n",
      " [ 5 12]]\n",
      "\n",
      "\n",
      "Fold:  7\n",
      "Accuracy: 0.656, Precision: 0.650, Specificity: 0.533, Sensitivity: 0.765, Recall: 0.765\n",
      "Balanced Accuracy: 0.649, F1 Score: 0.703\n",
      "Confusion Matrix:\n",
      " [[ 8  7]\n",
      " [ 4 13]]\n",
      "\n",
      "\n",
      "Fold:  8\n",
      "Accuracy: 0.625, Precision: 0.632, Specificity: 0.533, Sensitivity: 0.706, Recall: 0.706\n",
      "Balanced Accuracy: 0.620, F1 Score: 0.667\n",
      "Confusion Matrix:\n",
      " [[ 8  7]\n",
      " [ 5 12]]\n",
      "\n",
      "\n",
      "Fold:  9\n",
      "Accuracy: 0.656, Precision: 0.650, Specificity: 0.533, Sensitivity: 0.765, Recall: 0.765\n",
      "Balanced Accuracy: 0.649, F1 Score: 0.703\n",
      "Confusion Matrix:\n",
      " [[ 8  7]\n",
      " [ 4 13]]\n",
      "\n",
      "\n",
      "Fold: 10\n",
      "Accuracy: 0.844, Precision: 0.875, Specificity: 0.867, Sensitivity: 0.824, Recall: 0.824\n",
      "Balanced Accuracy: 0.845, F1 Score: 0.848\n",
      "Confusion Matrix:\n",
      " [[13  2]\n",
      " [ 3 14]]\n",
      "\n",
      "\n",
      "Mean Accuracy: 0.641, Precision: 0.667, Specificity: 0.593, Sensitivity: 0.684, Recall: 0.684\n",
      "Mean Balanced Accuracy: 0.638, F1 Score: 0.671\n",
      "Mean Confusion Matrix:\n",
      " [[ 8.7  6. ]\n",
      " [ 5.5 11.8]]\n",
      "\n",
      "\n",
      "Cross-Validation Accuracy: 0.641 +/- 0.099\n"
     ]
    }
   ],
   "source": [
    "import numpy as np\n",
    "from sklearn.model_selection import StratifiedKFold\n",
    "from sklearn.metrics import accuracy_score, precision_score, recall_score, f1_score, balanced_accuracy_score, confusion_matrix\n",
    "\n",
    "model=DecisionTreeClassifier()\n",
    "\n",
    "skf = StratifiedKFold(n_splits=10)\n",
    "scores = []\n",
    "precisions = []\n",
    "specificities = []\n",
    "sensitivities = []\n",
    "recalls = []\n",
    "balanced_accuracies = []\n",
    "f1_scores = []\n",
    "confusion_matrices = []\n",
    "\n",
    "for k, (train_index, test_index) in enumerate(skf.split(X_train, Y_train)):\n",
    "    X_train_fold, X_test_fold = X_train.iloc[train_index], X_train.iloc[test_index]\n",
    "    Y_train_fold, Y_test_fold = Y_train.iloc[train_index], Y_train.iloc[test_index]\n",
    "    \n",
    "    model.fit(X_train_fold, Y_train_fold)\n",
    "    y_pred = model.predict(X_test_fold)\n",
    "    \n",
    "    score = accuracy_score(Y_test_fold, y_pred)\n",
    "    precision = precision_score(Y_test_fold, y_pred)\n",
    "    recall = recall_score(Y_test_fold, y_pred)\n",
    "    balanced_accuracy = balanced_accuracy_score(Y_test_fold, y_pred)\n",
    "    f1 = f1_score(Y_test_fold, y_pred)\n",
    "    confusion = confusion_matrix(Y_test_fold, y_pred)\n",
    "    \n",
    "    scores.append(score)\n",
    "    precisions.append(precision)\n",
    "    recalls.append(recall)\n",
    "    balanced_accuracies.append(balanced_accuracy)\n",
    "    f1_scores.append(f1)\n",
    "    confusion_matrices.append(confusion)\n",
    "    \n",
    "    tn, fp, fn, tp = confusion.ravel()\n",
    "    specificity = tn / (tn + fp)\n",
    "    specificities.append(specificity)\n",
    "    sensitivity = tp / (tp + fn)\n",
    "    sensitivities.append(sensitivity)\n",
    "\n",
    "    print('Fold: %2d' % (k+1))\n",
    "    print('Accuracy: %.3f, Precision: %.3f, Specificity: %.3f, Sensitivity: %.3f, Recall: %.3f' % (\n",
    "        score, precision, specificity, sensitivity, recall))\n",
    "    print('Balanced Accuracy: %.3f, F1 Score: %.3f' % (balanced_accuracy, f1))\n",
    "    print('Confusion Matrix:\\n', confusion)\n",
    "    print('\\n')\n",
    "\n",
    "mean_score = np.mean(scores)\n",
    "mean_precision = np.mean(precisions)\n",
    "mean_recall = np.mean(recalls)\n",
    "mean_balanced_accuracy = np.mean(balanced_accuracies)\n",
    "mean_f1 = np.mean(f1_scores)\n",
    "mean_specificity = np.mean(specificities)\n",
    "mean_sensitivity = np.mean(sensitivities)\n",
    "mean_confusion = np.mean(confusion_matrices, axis=0)\n",
    "\n",
    "print('Mean Accuracy: %.3f, Precision: %.3f, Specificity: %.3f, Sensitivity: %.3f, Recall: %.3f' % (\n",
    "    mean_score, mean_precision, mean_specificity, mean_sensitivity, mean_recall))\n",
    "print('Mean Balanced Accuracy: %.3f, F1 Score: %.3f' % (mean_balanced_accuracy, mean_f1))\n",
    "print('Mean Confusion Matrix:\\n', mean_confusion)\n",
    "print('\\n\\nCross-Validation Accuracy: %.3f +/- %.3f' % (np.mean(scores), np.std(scores)))"
   ]
  },
  {
   "cell_type": "markdown",
   "id": "80fa8d80",
   "metadata": {},
   "source": [
    "# Using test data"
   ]
  },
  {
   "cell_type": "code",
   "execution_count": 22,
   "id": "b4c43d20",
   "metadata": {},
   "outputs": [],
   "source": [
    "dfm=pd.read_csv(\"dataset1.csv\")\n",
    "X_test = dfm.iloc[:,:-1]\n",
    "y_test = dfm.iloc[:,-1]\n",
    "X = df.iloc[:,:-1]\n",
    "Y = df.iloc[:,-1]"
   ]
  },
  {
   "cell_type": "code",
   "execution_count": 23,
   "id": "f573e790",
   "metadata": {},
   "outputs": [],
   "source": [
    "model = DecisionTreeClassifier()\n",
    "model.fit(X,Y)\n",
    "y_pred = model.predict(X_test)"
   ]
  },
  {
   "cell_type": "code",
   "execution_count": 24,
   "id": "fb083973",
   "metadata": {},
   "outputs": [
    {
     "name": "stdout",
     "output_type": "stream",
     "text": [
      "Accuracy: 0.63\n",
      "[[31 29]\n",
      " [ 8 32]]\n"
     ]
    }
   ],
   "source": [
    "accuracy = accuracy_score(y_test, y_pred)\n",
    "print(\"Accuracy:\", accuracy)\n",
    "from sklearn.metrics import confusion_matrix\n",
    "m=confusion_matrix(y_test,y_pred)\n",
    "print(m)"
   ]
  },
  {
   "cell_type": "code",
   "execution_count": 25,
   "id": "00c1c514",
   "metadata": {},
   "outputs": [],
   "source": [
    "from sklearn.metrics import confusion_matrix\n",
    "def sensitivity(y_test, y_pred):\n",
    "    tp, fn, fp, tn = confusion_matrix(y_test, y_pred).ravel()\n",
    "    return tp / (tp + fn)\n",
    "def specificity(y_test, y_pred):\n",
    "    tp, fn, fp, tn = confusion_matrix(y_test, y_pred).ravel()\n",
    "    return tn / (tn + fp)\n",
    "def presicion(y_test, y_pred):\n",
    "    tp, fn, fp, tn = confusion_matrix(y_test, y_pred).ravel()\n",
    "    return tp / (tp + fp)\n",
    "def balanced_accuracy(y_test, y_pred):\n",
    "    return (specificity+sensitivity)/2"
   ]
  },
  {
   "cell_type": "code",
   "execution_count": 26,
   "id": "4bfdb2d7",
   "metadata": {},
   "outputs": [
    {
     "name": "stdout",
     "output_type": "stream",
     "text": [
      "0.5166666666666667\n",
      "0.8\n",
      "0.7948717948717948\n",
      "0.6583333333333334\n"
     ]
    }
   ],
   "source": [
    "sensitivity = sensitivity(y_test, y_pred)\n",
    "print(sensitivity)\n",
    "specificity=specificity(y_test, y_pred)\n",
    "print(specificity)\n",
    "presicion=presicion(y_test, y_pred)\n",
    "print(presicion)\n",
    "balanced_accuracy=balanced_accuracy(y_test, y_pred)\n",
    "print(balanced_accuracy)"
   ]
  },
  {
   "cell_type": "code",
   "execution_count": 28,
   "id": "10fb872f",
   "metadata": {},
   "outputs": [
    {
     "name": "stdout",
     "output_type": "stream",
     "text": [
      "Fold:  1, Training/Test Split Distribution: [171 189]\n",
      "Accuracy: 0.625, Precision: 0.607, Specificity: 0.421, Sensitivity: 0.810, Recall: 0.810\n",
      "Balanced Accuracy: 0.615, F1 Score: 0.694\n",
      "Confusion Matrix:\n",
      " [[ 8 11]\n",
      " [ 4 17]]\n",
      "\n",
      "\n",
      "Fold:  2, Training/Test Split Distribution: [171 189]\n",
      "Accuracy: 0.575, Precision: 0.577, Specificity: 0.421, Sensitivity: 0.714, Recall: 0.714\n",
      "Balanced Accuracy: 0.568, F1 Score: 0.638\n",
      "Confusion Matrix:\n",
      " [[ 8 11]\n",
      " [ 6 15]]\n",
      "\n",
      "\n",
      "Fold:  3, Training/Test Split Distribution: [171 189]\n",
      "Accuracy: 0.525, Precision: 0.562, Specificity: 0.632, Sensitivity: 0.429, Recall: 0.429\n",
      "Balanced Accuracy: 0.530, F1 Score: 0.486\n",
      "Confusion Matrix:\n",
      " [[12  7]\n",
      " [12  9]]\n",
      "\n",
      "\n",
      "Fold:  4, Training/Test Split Distribution: [171 189]\n",
      "Accuracy: 0.475, Precision: 0.500, Specificity: 0.526, Sensitivity: 0.429, Recall: 0.429\n",
      "Balanced Accuracy: 0.477, F1 Score: 0.462\n",
      "Confusion Matrix:\n",
      " [[10  9]\n",
      " [12  9]]\n",
      "\n",
      "\n",
      "Fold:  5, Training/Test Split Distribution: [171 189]\n",
      "Accuracy: 0.425, Precision: 0.444, Specificity: 0.474, Sensitivity: 0.381, Recall: 0.381\n",
      "Balanced Accuracy: 0.427, F1 Score: 0.410\n",
      "Confusion Matrix:\n",
      " [[ 9 10]\n",
      " [13  8]]\n",
      "\n",
      "\n",
      "Fold:  6, Training/Test Split Distribution: [171 189]\n",
      "Accuracy: 0.525, Precision: 0.562, Specificity: 0.632, Sensitivity: 0.429, Recall: 0.429\n",
      "Balanced Accuracy: 0.530, F1 Score: 0.486\n",
      "Confusion Matrix:\n",
      " [[12  7]\n",
      " [12  9]]\n",
      "\n",
      "\n",
      "Fold:  7, Training/Test Split Distribution: [171 189]\n",
      "Accuracy: 0.525, Precision: 0.550, Specificity: 0.526, Sensitivity: 0.524, Recall: 0.524\n",
      "Balanced Accuracy: 0.525, F1 Score: 0.537\n",
      "Confusion Matrix:\n",
      " [[10  9]\n",
      " [10 11]]\n",
      "\n",
      "\n",
      "Fold:  8, Training/Test Split Distribution: [171 189]\n",
      "Accuracy: 0.800, Precision: 0.724, Specificity: 0.579, Sensitivity: 1.000, Recall: 1.000\n",
      "Balanced Accuracy: 0.789, F1 Score: 0.840\n",
      "Confusion Matrix:\n",
      " [[11  8]\n",
      " [ 0 21]]\n",
      "\n",
      "\n",
      "Fold:  9, Training/Test Split Distribution: [171 189]\n",
      "Accuracy: 0.350, Precision: 0.353, Specificity: 0.421, Sensitivity: 0.286, Recall: 0.286\n",
      "Balanced Accuracy: 0.353, F1 Score: 0.316\n",
      "Confusion Matrix:\n",
      " [[ 8 11]\n",
      " [15  6]]\n",
      "\n",
      "\n",
      "Fold: 10, Training/Test Split Distribution: [171 189]\n",
      "Accuracy: 0.300, Precision: 0.360, Specificity: 0.158, Sensitivity: 0.429, Recall: 0.429\n",
      "Balanced Accuracy: 0.293, F1 Score: 0.391\n",
      "Confusion Matrix:\n",
      " [[ 3 16]\n",
      " [12  9]]\n",
      "\n",
      "\n",
      "\n",
      "\n",
      "Cross-Validation Accuracy: 0.512 +/- 0.134\n",
      "Mean Accuracy: 0.512, Precision: 0.524, Specificity: 0.479, Sensitivity: 0.543, Recall: 0.543\n",
      "Mean Balanced Accuracy: 0.511, F1 Score: 0.526\n",
      "Mean Confusion Matrix:\n",
      " [[ 9.1  9.9]\n",
      " [ 9.6 11.4]]\n",
      "\n",
      "\n",
      "Cross-Validation Accuracy: 0.512 +/- 0.134\n"
     ]
    }
   ],
   "source": [
    "from sklearn.model_selection import StratifiedKFold\n",
    "import numpy as np\n",
    "from sklearn.metrics import accuracy_score, precision_score, recall_score, f1_score, balanced_accuracy_score, confusion_matrix\n",
    "\n",
    "strtfdKFold = StratifiedKFold(n_splits=10)\n",
    "kfold = strtfdKFold.split(X, Y)\n",
    "\n",
    "scores = []\n",
    "precisions = []\n",
    "specificities = []\n",
    "sensitivities = []\n",
    "recalls = []\n",
    "balanced_accuracies = []\n",
    "f1_scores = []\n",
    "confusion_matrices = []\n",
    "\n",
    "model = DecisionTreeClassifier()\n",
    "\n",
    "for k, (train, test) in enumerate(kfold):\n",
    "    model.fit(X.iloc[train], Y.iloc[train])\n",
    "    y_pred = model.predict(X.iloc[test])\n",
    "    score = accuracy_score(Y.iloc[test], y_pred)\n",
    "    precision = precision_score(Y.iloc[test], y_pred)\n",
    "    recall = recall_score(Y.iloc[test], y_pred)\n",
    "    balanced_accuracy = balanced_accuracy_score(Y.iloc[test], y_pred)\n",
    "    f1 = f1_score(Y.iloc[test], y_pred)\n",
    "    confusion = confusion_matrix(Y.iloc[test], y_pred)\n",
    "\n",
    "    scores.append(score)\n",
    "    precisions.append(precision)\n",
    "    recalls.append(recall)\n",
    "    balanced_accuracies.append(balanced_accuracy)\n",
    "    f1_scores.append(f1)\n",
    "    confusion_matrices.append(confusion)\n",
    "\n",
    "    tn, fp, fn, tp = confusion.ravel()\n",
    "    specificity = tn / (tn + fp)\n",
    "    specificities.append(specificity)\n",
    "    sensitivity = tp / (tp + fn)\n",
    "    sensitivities.append(sensitivity)\n",
    "\n",
    "    print('Fold: %2d, Training/Test Split Distribution: %s' % (k + 1, np.bincount(Y.iloc[train])))\n",
    "    print('Accuracy: %.3f, Precision: %.3f, Specificity: %.3f, Sensitivity: %.3f, Recall: %.3f' % (\n",
    "    score, precision, specificity, sensitivity, recall))\n",
    "    print('Balanced Accuracy: %.3f, F1 Score: %.3f' % (balanced_accuracy, f1))\n",
    "    print('Confusion Matrix:\\n', confusion)\n",
    "    print('\\n')\n",
    "\n",
    "print('\\n\\nCross-Validation Accuracy: %.3f +/- %.3f' % (np.mean(scores), np.std(scores)))\n",
    "mean_score = np.mean(scores)\n",
    "mean_precision = np.mean(precisions)\n",
    "mean_recall = np.mean(recalls)\n",
    "mean_balanced_accuracy = np.mean(balanced_accuracies)\n",
    "mean_f1 = np.mean(f1_scores)\n",
    "mean_specificity = np.mean(specificities)\n",
    "mean_sensitivity = np.mean(sensitivities)\n",
    "mean_confusion = np.mean(confusion_matrices, axis=0)\n",
    "\n",
    "print('Mean Accuracy: %.3f, Precision: %.3f, Specificity: %.3f, Sensitivity: %.3f, Recall: %.3f' % (\n",
    "    mean_score, mean_precision, mean_specificity, mean_sensitivity, mean_recall))\n",
    "print('Mean Balanced Accuracy: %.3f, F1 Score: %.3f' % (mean_balanced_accuracy, mean_f1))\n",
    "print('Mean Confusion Matrix:\\n', mean_confusion)\n",
    "print('\\n\\nCross-Validation Accuracy: %.3f +/- %.3f' % (np.mean(scores), np.std(scores)))"
   ]
  },
  {
   "cell_type": "code",
   "execution_count": null,
   "id": "f2d6d805",
   "metadata": {},
   "outputs": [],
   "source": []
  },
  {
   "cell_type": "code",
   "execution_count": null,
   "id": "328fb900",
   "metadata": {},
   "outputs": [],
   "source": []
  },
  {
   "cell_type": "code",
   "execution_count": null,
   "id": "838484d4",
   "metadata": {},
   "outputs": [],
   "source": []
  },
  {
   "cell_type": "code",
   "execution_count": null,
   "id": "17a13d39",
   "metadata": {},
   "outputs": [],
   "source": []
  },
  {
   "cell_type": "code",
   "execution_count": null,
   "id": "b254d09f",
   "metadata": {},
   "outputs": [],
   "source": []
  },
  {
   "cell_type": "code",
   "execution_count": null,
   "id": "a3d4fbaa",
   "metadata": {},
   "outputs": [],
   "source": []
  },
  {
   "cell_type": "code",
   "execution_count": null,
   "id": "e6336e83",
   "metadata": {},
   "outputs": [],
   "source": []
  },
  {
   "cell_type": "code",
   "execution_count": null,
   "id": "277b20a8",
   "metadata": {},
   "outputs": [],
   "source": []
  },
  {
   "cell_type": "code",
   "execution_count": null,
   "id": "6eafc9ce",
   "metadata": {},
   "outputs": [],
   "source": []
  },
  {
   "cell_type": "code",
   "execution_count": null,
   "id": "866ce3ec",
   "metadata": {},
   "outputs": [],
   "source": []
  },
  {
   "cell_type": "code",
   "execution_count": null,
   "id": "bb1a0bba",
   "metadata": {},
   "outputs": [],
   "source": []
  },
  {
   "cell_type": "code",
   "execution_count": null,
   "id": "77f6f114",
   "metadata": {},
   "outputs": [],
   "source": []
  },
  {
   "cell_type": "code",
   "execution_count": null,
   "id": "b79d24ab",
   "metadata": {},
   "outputs": [],
   "source": []
  }
 ],
 "metadata": {
  "kernelspec": {
   "display_name": "Python 3 (ipykernel)",
   "language": "python",
   "name": "python3"
  },
  "language_info": {
   "codemirror_mode": {
    "name": "ipython",
    "version": 3
   },
   "file_extension": ".py",
   "mimetype": "text/x-python",
   "name": "python",
   "nbconvert_exporter": "python",
   "pygments_lexer": "ipython3",
   "version": "3.10.9"
  }
 },
 "nbformat": 4,
 "nbformat_minor": 5
}
